{
 "cells": [
  {
   "cell_type": "code",
   "execution_count": 1,
   "metadata": {
    "id": "EYVs1qlgNd4t"
   },
   "outputs": [],
   "source": [
    "import numpy as np\n",
    "import pandas as pd\n",
    "import pickle\n",
    "import matplotlib.pyplot as pandas\n",
    "from sklearn.compose import ColumnTransformer\n",
    "from sklearn.preprocessing import OneHotEncoder,StandardScaler\n",
    "from sklearn.pipeline import Pipeline\n",
    "from sklearn.model_selection import train_test_split\n",
    "from sklearn.ensemble import RandomForestRegressor\n",
    "from xgboost import XGBRegressor\n",
    "from sklearn.metrics import r2_score,mean_absolute_error\n"
   ]
  },
  {
   "cell_type": "code",
   "execution_count": 3,
   "metadata": {},
   "outputs": [
    {
     "data": {
      "text/plain": [
       "'1.4.2'"
      ]
     },
     "execution_count": 3,
     "metadata": {},
     "output_type": "execute_result"
    }
   ],
   "source": [
    "import xgboost\n",
    "xgboost.__version__"
   ]
  },
  {
   "cell_type": "code",
   "execution_count": 6,
   "metadata": {
    "id": "ZRcU0-PJOmde"
   },
   "outputs": [],
   "source": [
    "#Reading the dataset\n",
    "df_t20 = pickle.load(open('prepared_dataset.pkl','rb'))"
   ]
  },
  {
   "cell_type": "code",
   "execution_count": 7,
   "metadata": {
    "colab": {
     "base_uri": "https://localhost:8080/"
    },
    "id": "VmTuHeQFVC79",
    "outputId": "23af75e5-7f1d-4e22-9844-98325f8c67a2"
   },
   "outputs": [
    {
     "name": "stdout",
     "output_type": "stream",
     "text": [
      "<class 'pandas.core.frame.DataFrame'>\n",
      "Int64Index: 72573 entries, 30357 to 37978\n",
      "Data columns (total 9 columns):\n",
      " #   Column         Non-Null Count  Dtype  \n",
      "---  ------         --------------  -----  \n",
      " 0   batting_team   72573 non-null  object \n",
      " 1   bowling_team   72573 non-null  object \n",
      " 2   current_score  72573 non-null  int64  \n",
      " 3   wicket_left    72573 non-null  int32  \n",
      " 4   curr_rr        72573 non-null  float64\n",
      " 5   city           72573 non-null  object \n",
      " 6   ball_left      72573 non-null  int64  \n",
      " 7   last_five      72573 non-null  float64\n",
      " 8   runs_x         72573 non-null  int64  \n",
      "dtypes: float64(2), int32(1), int64(3), object(3)\n",
      "memory usage: 5.3+ MB\n"
     ]
    }
   ],
   "source": [
    "df_t20.info()"
   ]
  },
  {
   "cell_type": "code",
   "execution_count": 8,
   "metadata": {
    "colab": {
     "base_uri": "https://localhost:8080/",
     "height": 300
    },
    "id": "UjoAWo9uOf3V",
    "outputId": "aa983717-0fdb-49b7-bbca-05f9aab37120"
   },
   "outputs": [
    {
     "data": {
      "text/html": [
       "<div>\n",
       "<style scoped>\n",
       "    .dataframe tbody tr th:only-of-type {\n",
       "        vertical-align: middle;\n",
       "    }\n",
       "\n",
       "    .dataframe tbody tr th {\n",
       "        vertical-align: top;\n",
       "    }\n",
       "\n",
       "    .dataframe thead th {\n",
       "        text-align: right;\n",
       "    }\n",
       "</style>\n",
       "<table border=\"1\" class=\"dataframe\">\n",
       "  <thead>\n",
       "    <tr style=\"text-align: right;\">\n",
       "      <th></th>\n",
       "      <th>current_score</th>\n",
       "      <th>wicket_left</th>\n",
       "      <th>curr_rr</th>\n",
       "      <th>ball_left</th>\n",
       "      <th>last_five</th>\n",
       "      <th>runs_x</th>\n",
       "    </tr>\n",
       "  </thead>\n",
       "  <tbody>\n",
       "    <tr>\n",
       "      <th>count</th>\n",
       "      <td>72573.000000</td>\n",
       "      <td>72573.000000</td>\n",
       "      <td>72573.000000</td>\n",
       "      <td>72573.000000</td>\n",
       "      <td>72573.000000</td>\n",
       "      <td>72573.000000</td>\n",
       "    </tr>\n",
       "    <tr>\n",
       "      <th>mean</th>\n",
       "      <td>90.664090</td>\n",
       "      <td>6.647197</td>\n",
       "      <td>7.309305</td>\n",
       "      <td>46.060422</td>\n",
       "      <td>37.037714</td>\n",
       "      <td>154.090089</td>\n",
       "    </tr>\n",
       "    <tr>\n",
       "      <th>std</th>\n",
       "      <td>41.115685</td>\n",
       "      <td>2.041537</td>\n",
       "      <td>1.806423</td>\n",
       "      <td>26.534785</td>\n",
       "      <td>11.977767</td>\n",
       "      <td>34.862817</td>\n",
       "    </tr>\n",
       "    <tr>\n",
       "      <th>min</th>\n",
       "      <td>8.000000</td>\n",
       "      <td>0.000000</td>\n",
       "      <td>1.600000</td>\n",
       "      <td>0.000000</td>\n",
       "      <td>3.000000</td>\n",
       "      <td>39.000000</td>\n",
       "    </tr>\n",
       "    <tr>\n",
       "      <th>25%</th>\n",
       "      <td>58.000000</td>\n",
       "      <td>5.000000</td>\n",
       "      <td>6.107143</td>\n",
       "      <td>23.000000</td>\n",
       "      <td>28.000000</td>\n",
       "      <td>132.000000</td>\n",
       "    </tr>\n",
       "    <tr>\n",
       "      <th>50%</th>\n",
       "      <td>86.000000</td>\n",
       "      <td>7.000000</td>\n",
       "      <td>7.252174</td>\n",
       "      <td>46.000000</td>\n",
       "      <td>36.000000</td>\n",
       "      <td>153.000000</td>\n",
       "    </tr>\n",
       "    <tr>\n",
       "      <th>75%</th>\n",
       "      <td>118.000000</td>\n",
       "      <td>8.000000</td>\n",
       "      <td>8.465753</td>\n",
       "      <td>69.000000</td>\n",
       "      <td>44.000000</td>\n",
       "      <td>178.000000</td>\n",
       "    </tr>\n",
       "    <tr>\n",
       "      <th>max</th>\n",
       "      <td>263.000000</td>\n",
       "      <td>10.000000</td>\n",
       "      <td>16.600000</td>\n",
       "      <td>98.000000</td>\n",
       "      <td>89.000000</td>\n",
       "      <td>263.000000</td>\n",
       "    </tr>\n",
       "  </tbody>\n",
       "</table>\n",
       "</div>"
      ],
      "text/plain": [
       "       current_score   wicket_left       curr_rr     ball_left     last_five  \\\n",
       "count   72573.000000  72573.000000  72573.000000  72573.000000  72573.000000   \n",
       "mean       90.664090      6.647197      7.309305     46.060422     37.037714   \n",
       "std        41.115685      2.041537      1.806423     26.534785     11.977767   \n",
       "min         8.000000      0.000000      1.600000      0.000000      3.000000   \n",
       "25%        58.000000      5.000000      6.107143     23.000000     28.000000   \n",
       "50%        86.000000      7.000000      7.252174     46.000000     36.000000   \n",
       "75%       118.000000      8.000000      8.465753     69.000000     44.000000   \n",
       "max       263.000000     10.000000     16.600000     98.000000     89.000000   \n",
       "\n",
       "             runs_x  \n",
       "count  72573.000000  \n",
       "mean     154.090089  \n",
       "std       34.862817  \n",
       "min       39.000000  \n",
       "25%      132.000000  \n",
       "50%      153.000000  \n",
       "75%      178.000000  \n",
       "max      263.000000  "
      ]
     },
     "execution_count": 8,
     "metadata": {},
     "output_type": "execute_result"
    }
   ],
   "source": [
    "df_t20.describe()"
   ]
  },
  {
   "cell_type": "code",
   "execution_count": 9,
   "metadata": {
    "id": "PPAYXL72Pieq"
   },
   "outputs": [],
   "source": [
    "#splitting input feature and target feature\n",
    "X = df_t20.drop(columns=['runs_x'])\n",
    "y = df_t20['runs_x']"
   ]
  },
  {
   "cell_type": "code",
   "execution_count": 10,
   "metadata": {
    "id": "AOTouYSbQCEa"
   },
   "outputs": [],
   "source": [
    "#Splitting train and test dataset\n",
    "X_train,X_test,y_train,y_test = train_test_split(X,y,test_size=0.2,random_state=1)"
   ]
  },
  {
   "cell_type": "code",
   "execution_count": 11,
   "metadata": {
    "colab": {
     "base_uri": "https://localhost:8080/"
    },
    "id": "cS_E5mYSQefH",
    "outputId": "16e5b8ab-be1a-4348-841d-cc6505dad0aa"
   },
   "outputs": [
    {
     "data": {
      "text/plain": [
       "((58058, 8), (14515, 8), (58058,), (14515,))"
      ]
     },
     "execution_count": 11,
     "metadata": {},
     "output_type": "execute_result"
    }
   ],
   "source": [
    "X_train.shape,X_test.shape,y_train.shape,y_test.shape"
   ]
  },
  {
   "cell_type": "code",
   "execution_count": 12,
   "metadata": {
    "colab": {
     "base_uri": "https://localhost:8080/",
     "height": 350
    },
    "id": "NekwLpycQ3m4",
    "outputId": "d9abb38a-c060-4ebd-bd68-16966cc0e67e"
   },
   "outputs": [
    {
     "data": {
      "text/html": [
       "<div>\n",
       "<style scoped>\n",
       "    .dataframe tbody tr th:only-of-type {\n",
       "        vertical-align: middle;\n",
       "    }\n",
       "\n",
       "    .dataframe tbody tr th {\n",
       "        vertical-align: top;\n",
       "    }\n",
       "\n",
       "    .dataframe thead th {\n",
       "        text-align: right;\n",
       "    }\n",
       "</style>\n",
       "<table border=\"1\" class=\"dataframe\">\n",
       "  <thead>\n",
       "    <tr style=\"text-align: right;\">\n",
       "      <th></th>\n",
       "      <th>batting_team</th>\n",
       "      <th>bowling_team</th>\n",
       "      <th>current_score</th>\n",
       "      <th>wicket_left</th>\n",
       "      <th>curr_rr</th>\n",
       "      <th>city</th>\n",
       "      <th>ball_left</th>\n",
       "      <th>last_five</th>\n",
       "    </tr>\n",
       "  </thead>\n",
       "  <tbody>\n",
       "    <tr>\n",
       "      <th>17784</th>\n",
       "      <td>Kenya</td>\n",
       "      <td>Ghana</td>\n",
       "      <td>95</td>\n",
       "      <td>7</td>\n",
       "      <td>6.129032</td>\n",
       "      <td>Kampala</td>\n",
       "      <td>27</td>\n",
       "      <td>39.0</td>\n",
       "    </tr>\n",
       "    <tr>\n",
       "      <th>15191</th>\n",
       "      <td>West Indies</td>\n",
       "      <td>India</td>\n",
       "      <td>62</td>\n",
       "      <td>4</td>\n",
       "      <td>4.325581</td>\n",
       "      <td>Kolkata</td>\n",
       "      <td>34</td>\n",
       "      <td>15.0</td>\n",
       "    </tr>\n",
       "    <tr>\n",
       "      <th>3044</th>\n",
       "      <td>England</td>\n",
       "      <td>Australia</td>\n",
       "      <td>71</td>\n",
       "      <td>6</td>\n",
       "      <td>6.173913</td>\n",
       "      <td>Melbourne</td>\n",
       "      <td>51</td>\n",
       "      <td>26.0</td>\n",
       "    </tr>\n",
       "    <tr>\n",
       "      <th>48128</th>\n",
       "      <td>Australia</td>\n",
       "      <td>West Indies</td>\n",
       "      <td>110</td>\n",
       "      <td>6</td>\n",
       "      <td>7.500000</td>\n",
       "      <td>London</td>\n",
       "      <td>32</td>\n",
       "      <td>50.0</td>\n",
       "    </tr>\n",
       "    <tr>\n",
       "      <th>4137</th>\n",
       "      <td>United Arab Emirates</td>\n",
       "      <td>Afghanistan</td>\n",
       "      <td>71</td>\n",
       "      <td>8</td>\n",
       "      <td>9.906977</td>\n",
       "      <td>Abu Dhabi</td>\n",
       "      <td>77</td>\n",
       "      <td>39.0</td>\n",
       "    </tr>\n",
       "    <tr>\n",
       "      <th>...</th>\n",
       "      <td>...</td>\n",
       "      <td>...</td>\n",
       "      <td>...</td>\n",
       "      <td>...</td>\n",
       "      <td>...</td>\n",
       "      <td>...</td>\n",
       "      <td>...</td>\n",
       "      <td>...</td>\n",
       "    </tr>\n",
       "    <tr>\n",
       "      <th>38385</th>\n",
       "      <td>United Arab Emirates</td>\n",
       "      <td>Saudi Arabia</td>\n",
       "      <td>102</td>\n",
       "      <td>7</td>\n",
       "      <td>8.052632</td>\n",
       "      <td>Al Amarat</td>\n",
       "      <td>44</td>\n",
       "      <td>39.0</td>\n",
       "    </tr>\n",
       "    <tr>\n",
       "      <th>86586</th>\n",
       "      <td>England</td>\n",
       "      <td>Pakistan</td>\n",
       "      <td>62</td>\n",
       "      <td>8</td>\n",
       "      <td>7.018868</td>\n",
       "      <td>Dubai</td>\n",
       "      <td>67</td>\n",
       "      <td>30.0</td>\n",
       "    </tr>\n",
       "    <tr>\n",
       "      <th>10526</th>\n",
       "      <td>India</td>\n",
       "      <td>Ireland</td>\n",
       "      <td>185</td>\n",
       "      <td>9</td>\n",
       "      <td>10.277778</td>\n",
       "      <td>Dublin</td>\n",
       "      <td>12</td>\n",
       "      <td>63.0</td>\n",
       "    </tr>\n",
       "    <tr>\n",
       "      <th>26659</th>\n",
       "      <td>Oman</td>\n",
       "      <td>Ireland</td>\n",
       "      <td>130</td>\n",
       "      <td>6</td>\n",
       "      <td>8.041237</td>\n",
       "      <td>Al Amarat</td>\n",
       "      <td>23</td>\n",
       "      <td>49.0</td>\n",
       "    </tr>\n",
       "    <tr>\n",
       "      <th>69182</th>\n",
       "      <td>New Zealand</td>\n",
       "      <td>England</td>\n",
       "      <td>185</td>\n",
       "      <td>7</td>\n",
       "      <td>10.277778</td>\n",
       "      <td>London</td>\n",
       "      <td>12</td>\n",
       "      <td>57.0</td>\n",
       "    </tr>\n",
       "  </tbody>\n",
       "</table>\n",
       "<p>58058 rows × 8 columns</p>\n",
       "</div>"
      ],
      "text/plain": [
       "               batting_team  bowling_team  current_score  wicket_left  \\\n",
       "17784                 Kenya         Ghana             95            7   \n",
       "15191           West Indies         India             62            4   \n",
       "3044                England     Australia             71            6   \n",
       "48128             Australia   West Indies            110            6   \n",
       "4137   United Arab Emirates   Afghanistan             71            8   \n",
       "...                     ...           ...            ...          ...   \n",
       "38385  United Arab Emirates  Saudi Arabia            102            7   \n",
       "86586               England      Pakistan             62            8   \n",
       "10526                 India       Ireland            185            9   \n",
       "26659                  Oman       Ireland            130            6   \n",
       "69182           New Zealand       England            185            7   \n",
       "\n",
       "         curr_rr       city  ball_left  last_five  \n",
       "17784   6.129032    Kampala         27       39.0  \n",
       "15191   4.325581    Kolkata         34       15.0  \n",
       "3044    6.173913  Melbourne         51       26.0  \n",
       "48128   7.500000     London         32       50.0  \n",
       "4137    9.906977  Abu Dhabi         77       39.0  \n",
       "...          ...        ...        ...        ...  \n",
       "38385   8.052632  Al Amarat         44       39.0  \n",
       "86586   7.018868      Dubai         67       30.0  \n",
       "10526  10.277778     Dublin         12       63.0  \n",
       "26659   8.041237  Al Amarat         23       49.0  \n",
       "69182  10.277778     London         12       57.0  \n",
       "\n",
       "[58058 rows x 8 columns]"
      ]
     },
     "execution_count": 12,
     "metadata": {},
     "output_type": "execute_result"
    }
   ],
   "source": [
    "X_train"
   ]
  },
  {
   "cell_type": "code",
   "execution_count": 13,
   "metadata": {
    "id": "x2T1snCvQ-Ob"
   },
   "outputs": [],
   "source": [
    "#Convert the Object datatype into integer which model can understand\n",
    "colm_transf = ColumnTransformer([\n",
    "    ('colm_transf',OneHotEncoder(sparse=False,drop='first'),['batting_team','bowling_team','city'])\n",
    "],remainder='passthrough')"
   ]
  },
  {
   "cell_type": "code",
   "execution_count": 14,
   "metadata": {
    "id": "3HrhD3L_Ty_Q"
   },
   "outputs": [],
   "source": [
    "#Create the pipeline to perform some task in sequence (OneHotEncoding,StandardScaler,Model training)\n",
    "pipe = Pipeline(steps=[\n",
    "    ('step1',colm_transf),\n",
    "    ('step2',StandardScaler()),\n",
    "    ('step3',XGBRegressor(n_estimators=1000,learning_rate=0.2,max_depth=12,random_state=1))\n",
    "])"
   ]
  },
  {
   "cell_type": "code",
   "execution_count": null,
   "metadata": {
    "colab": {
     "base_uri": "https://localhost:8080/",
     "height": 424
    },
    "id": "8XmiwE17T0nu",
    "outputId": "2e115264-6040-46e8-fe0c-6b15578cf5f2"
   },
   "outputs": [],
   "source": []
  },
  {
   "cell_type": "code",
   "execution_count": 15,
   "metadata": {
    "colab": {
     "base_uri": "https://localhost:8080/"
    },
    "id": "CXgpUk5zVSgc",
    "outputId": "dfc8ecc6-970d-4e6e-dcba-7b0a1020924d"
   },
   "outputs": [],
   "source": [
    "pipe.fit(X_train,y_train)\n",
    "y_pred = pipe.predict(X_test)"
   ]
  },
  {
   "cell_type": "code",
   "execution_count": 16,
   "metadata": {
    "colab": {
     "base_uri": "https://localhost:8080/"
    },
    "id": "TdkhhcaYVoxm",
    "outputId": "6659ff3d-759f-489e-ac01-8c825b9f6d8e"
   },
   "outputs": [
    {
     "name": "stdout",
     "output_type": "stream",
     "text": [
      "0.9904099450119112\n"
     ]
    }
   ],
   "source": [
    "print(r2_score(y_test,y_pred))"
   ]
  },
  {
   "cell_type": "markdown",
   "metadata": {
    "id": "aDE0JARyZR5b"
   },
   "source": [
    "<font color='red'>Higher the r2_score,good the model and model has the good fit"
   ]
  },
  {
   "cell_type": "code",
   "execution_count": 17,
   "metadata": {
    "colab": {
     "base_uri": "https://localhost:8080/"
    },
    "id": "CTK-usG2VynL",
    "outputId": "a8224bdb-1a5e-4d06-d5c1-6be04028736d"
   },
   "outputs": [
    {
     "data": {
      "text/plain": [
       "1.6488866103668687"
      ]
     },
     "execution_count": 17,
     "metadata": {},
     "output_type": "execute_result"
    }
   ],
   "source": [
    "mean_absolute_error(y_test,y_pred)"
   ]
  },
  {
   "cell_type": "code",
   "execution_count": 18,
   "metadata": {
    "id": "uMspVF2tZP-Z"
   },
   "outputs": [],
   "source": [
    "pickle.dump(pipe,open('pipe.pkl','wb'))"
   ]
  },
  {
   "cell_type": "code",
   "execution_count": null,
   "metadata": {
    "id": "aBQpm3vVaJT4"
   },
   "outputs": [],
   "source": []
  }
 ],
 "metadata": {
  "colab": {
   "provenance": []
  },
  "kernelspec": {
   "display_name": "Python 3",
   "language": "python",
   "name": "python3"
  },
  "language_info": {
   "codemirror_mode": {
    "name": "ipython",
    "version": 3
   },
   "file_extension": ".py",
   "mimetype": "text/x-python",
   "name": "python",
   "nbconvert_exporter": "python",
   "pygments_lexer": "ipython3",
   "version": "3.8.6"
  }
 },
 "nbformat": 4,
 "nbformat_minor": 1
}
